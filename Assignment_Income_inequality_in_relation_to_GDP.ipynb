{
  "nbformat": 4,
  "nbformat_minor": 0,
  "metadata": {
    "colab": {
      "provenance": []
    },
    "kernelspec": {
      "name": "python3",
      "display_name": "Python 3"
    },
    "language_info": {
      "name": "python"
    }
  },
  "cells": [
    {
      "cell_type": "code",
      "source": [
        "%load_ext google.colab.data_table"
      ],
      "metadata": {
        "id": "xBh9NF1QjCRp"
      },
      "execution_count": 1,
      "outputs": []
    },
    {
      "cell_type": "code",
      "execution_count": 56,
      "metadata": {
        "id": "VSGzv4qCee-y"
      },
      "outputs": [],
      "source": [
        "import pandas as pd\n",
        "import numpy as np\n",
        "import matplotlib.pyplot as plt\n",
        "from datetime import datetime\n",
        "from IPython.display import Markdown as md"
      ]
    },
    {
      "cell_type": "code",
      "source": [
        "gini = pd.read_csv('https://raw.githubusercontent.com/BRT33/Assignment---Income-inequality-in-relation-to-GDP/main/pip_dataset.csv',\n",
        "                      usecols=['country', 'year', 'gini'], parse_dates=['year']).dropna()\n",
        "gdp = pd.read_csv('https://raw.githubusercontent.com/BRT33/Assignment---Income-inequality-in-relation-to-GDP/main/gdp-per-capita-maddison-2020.csv',\n",
        "                      usecols=['Entity', 'Year', 'GDP per capita'])\n",
        "\n",
        "gdp = gdp.loc[gdp['Year'] >= 1967]\n",
        "gdp['Year'] = pd.to_datetime(gdp['Year'], format='%Y')\n",
        "gdp.columns = ['country', 'year', 'gdp']\n",
        "\n",
        "merged = pd.merge(gdp, gini, on=[\"country\", \"year\"])\n",
        "merged.set_index('year', inplace=True)"
      ],
      "metadata": {
        "id": "ZrOZfpQbfCO3"
      },
      "execution_count": 78,
      "outputs": []
    },
    {
      "cell_type": "code",
      "source": [
        "plt.scatter(merged[\"gdp\"], merged[\"gini\"])\n",
        "plt.xlabel(\"GDP\")\n",
        "plt.ylabel(\"Gini Coefficient\")\n",
        "plt.title(\"Relationship between GDP and Gini Coefficient\")\n",
        "plt.show()"
      ],
      "metadata": {
        "colab": {
          "base_uri": "https://localhost:8080/",
          "height": 295
        },
        "id": "5d9pyHQvb4Wi",
        "outputId": "69f70044-2670-495d-ae30-59abe961654a"
      },
      "execution_count": 79,
      "outputs": [
        {
          "output_type": "display_data",
          "data": {
            "text/plain": [
              "<Figure size 432x288 with 1 Axes>"
            ],
            "image/png": "[encoded data removed]"
          },
          "metadata": {
            "needs_background": "light"
          }
        }
      ]
    },
    {
      "cell_type": "code",
      "source": [
        "coeff = np.corrcoef(merged[\"gdp\"], merged[\"gini\"])[0, 1]"
      ],
      "metadata": {
        "id": "orOPu0SpjN2X"
      },
      "execution_count": 80,
      "outputs": []
    },
    {
      "cell_type": "code",
      "source": [
        "md(f'### de correlatie coefficient is {round(coeff, 4)}')"
      ],
      "metadata": {
        "colab": {
          "base_uri": "https://localhost:8080/",
          "height": 58
        },
        "id": "lrP5jWwMoP3t",
        "outputId": "103a6727-6961-42dd-a648-750218293dbe"
      },
      "execution_count": 81,
      "outputs": [
        {
          "output_type": "execute_result",
          "data": {
            "text/plain": [
              "<IPython.core.display.Markdown object>"
            ],
            "text/markdown": "### de correlatie coefficient is -0.398"
          },
          "metadata": {},
          "execution_count": 81
        }
      ]
    },
    {
      "cell_type": "code",
      "source": [
        "yearly = merged.resample('AS').mean()\n",
        "yearly_coeff = yearly[\"gdp\"].corr(yearly[\"gini\"])"
      ],
      "metadata": {
        "id": "gVBPPFx2kQRi"
      },
      "execution_count": 82,
      "outputs": []
    },
    {
      "cell_type": "code",
      "source": [
        "md(f'### Met gemmideldes over het jaar is de correlatie coefficient is {round(yearly_coeff, 4)}')\n"
      ],
      "metadata": {
        "colab": {
          "base_uri": "https://localhost:8080/",
          "height": 58
        },
        "id": "79IINKGCo0Xj",
        "outputId": "dd65da99-69a4-4f73-c26d-2bcb2b4c9ba2"
      },
      "execution_count": 83,
      "outputs": [
        {
          "output_type": "execute_result",
          "data": {
            "text/plain": [
              "<IPython.core.display.Markdown object>"
            ],
            "text/markdown": "### Met gemmideldes over het jaar is de correlatie coefficient is -0.3926"
          },
          "metadata": {},
          "execution_count": 83
        }
      ]
    },
    {
      "cell_type": "markdown",
      "source": [
        "# Inkomstongelijkheid in relatie to de Gini coëfficient\n",
        "\n",
        "Als we naar de correlatie coëfficient kijken, zien we een middelmatige en negatieve  \n",
        "correlatie tussen gdp en ongelijkheid in inkomsten(uitgedrukt als een hoge gini coëfficient).  \n",
        "Ook als we gemmideldes nemen over het hele jaar, en op die manier de natuurlijke  \n",
        "ruis uit de data halen zien we eenzelfde correlatie.\n",
        "\n",
        "\n",
        "Hoe lager de gdp hoe meer ongelijkheid in inkomen lijkt dus de conclusie.  \n",
        "Helemaal waar is dit ook weer niet, als we naar de scatterplot  \n",
        "\"Relationship between GDP and Gini Coefficient\"kijken zien we dat de laagste waardes  \n",
        "voor de gini coëfficient ook in het laagste segment van het gdp vallen.\n",
        "\n",
        "Alhoewel er dus maar een matige (negatieve) correlatie bestaat is deze zeker aanwezig."
      ],
      "metadata": {
        "id": "dOyKo2nhnGLW"
      }
    }
  ]
}